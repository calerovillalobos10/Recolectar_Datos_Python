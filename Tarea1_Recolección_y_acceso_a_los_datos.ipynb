{
  "nbformat": 4,
  "nbformat_minor": 0,
  "metadata": {
    "colab": {
      "provenance": [],
      "toc_visible": true,
      "include_colab_link": true
    },
    "kernelspec": {
      "name": "python3",
      "display_name": "Python 3"
    },
    "language_info": {
      "name": "python"
    }
  },
  "cells": [
    {
      "cell_type": "markdown",
      "metadata": {
        "id": "view-in-github",
        "colab_type": "text"
      },
      "source": [
        "<a href=\"https://colab.research.google.com/github/calerovillalobos10/Recolectar_Datos_Python/blob/main/Tarea1_Recolecci%C3%B3n_y_acceso_a_los_datos.ipynb\" target=\"_parent\"><img src=\"https://colab.research.google.com/assets/colab-badge.svg\" alt=\"Open In Colab\"/></a>"
      ]
    },
    {
      "cell_type": "markdown",
      "source": [
        "#**Tarea1: Recolección y acceso a los datos.**"
      ],
      "metadata": {
        "id": "RmsEhL8dM6Ul"
      }
    },
    {
      "cell_type": "markdown",
      "source": [
        "## Estudiantes\n",
        "\n",
        "*   Bryan Thomas Calero Villalobos\n",
        "*   Daniela Montero Parkinson\n",
        "*   Christopher Zúñiga Cárdenas"
      ],
      "metadata": {
        "id": "SXbU7mOZOc-E"
      }
    },
    {
      "cell_type": "markdown",
      "source": [
        "## 1. Introducción a la Recolección de Datos"
      ],
      "metadata": {
        "id": "tgQVZS4yWVQa"
      }
    },
    {
      "cell_type": "markdown",
      "source": [
        "## 2. Uso de APIs para Acceder a Datos"
      ],
      "metadata": {
        "id": "M3yz8RywWtIA"
      }
    },
    {
      "cell_type": "markdown",
      "source": [
        "### ¿Qué es un API?"
      ],
      "metadata": {
        "id": "XPi2A-fCYYeY"
      }
    },
    {
      "cell_type": "markdown",
      "source": [
        "### ¿Cómo se utilizan las APIs para recolección de datos en Ciencia de Datos?"
      ],
      "metadata": {
        "id": "it3i1i7FYd6S"
      }
    },
    {
      "cell_type": "markdown",
      "source": [
        "### Uso Práctico - Recolección de Datos con APIs"
      ],
      "metadata": {
        "id": "sWDHTcPqYong"
      }
    },
    {
      "cell_type": "markdown",
      "source": [
        "## 3. Bases de Datos SQL"
      ],
      "metadata": {
        "id": "cNbmFI4VNE57"
      }
    },
    {
      "cell_type": "code",
      "source": [
        "##Creación de la base de datos\n",
        "import sqlite3\n",
        "\n",
        "conn = sqlite3.connect('Tarea12')\n",
        "##Creación de laS tablaS, se tiene que crear un cursor para la ejecución de codigo\n",
        "\n",
        "cursor = conn.cursor()\n",
        "cursor.execute(\"DROP TABLE IF EXISTS Persona\")\n",
        "cursor.execute('''\n",
        "CREATE TABLE Persona (\n",
        "    Id INTEGER PRIMARY KEY,\n",
        "    Nombres TEXT NOT NULL,\n",
        "    PrimerApellido TEXT NOT NULL,\n",
        "    SegundoApellido TEXT NOT NULL,\n",
        "    FechaNacimiento DATE NOT NULL,\n",
        "    Nacionalidad TEXT NOT NULL,\n",
        "    Sexo CHAR NOT NULL\n",
        "\n",
        ")\n",
        "''')\n",
        "\n",
        "cursor = conn.cursor()\n",
        "cursor.execute(\"DROP TABLE IF EXISTS Telefonos\")\n",
        "\n",
        "cursor.execute('''\n",
        "CREATE TABLE Telefonos (\n",
        "    Id INTEGER IDENTITY(1, 1) PRIMARY KEY ,\n",
        "    IdCliente INTEGER NOT NULL,\n",
        "    Tipo TEXT NOT NULL,\n",
        "    Numero INTEGER NOT NULL,\n",
        "    FOREIGN KEY (IdCliente) REFERENCES Persona(Id))\n",
        "''')\n",
        "Persona_data = [\n",
        "    (1, \"Juan Antonio\", \"Perez\",\"Montero\",\"1990-08-08\",\"Costarricense\",\"M\"),\n",
        "    (2, \"Pedro\", \"Peralta\",\"Gomez\",\"1993-01-08\",\"Costarricense\",\"M\"),\n",
        "    (3, \"Ana Maria\", \"Boniot\",\"Pier\",\"1980-02-26\",\"Frances\",\"F\"),\n",
        "    (4, \"Mariana\", \"Parra\",\"Telo\",\"1988-05-31\",\"Espanol\",\"F\"),\n",
        "]\n",
        "##Ejecución de varios datos del array\n",
        "cursor.executemany('''\n",
        "INSERT INTO Persona (Id, Nombres, PrimerApellido, SegundoApellido, FechaNacimiento, Nacionalidad, Sexo) VALUES (?, ?, ?, ?, ?, ?, ?)\n",
        "''', Persona_data)\n",
        "\n",
        "\n",
        "conn.commit()"
      ],
      "metadata": {
        "id": "lznYo7nvMsI6"
      },
      "execution_count": null,
      "outputs": []
    },
    {
      "cell_type": "code",
      "source": [
        "\n",
        "\n",
        "\n",
        "cursor.execute(\"SELECT  * FROM Persona\")\n",
        "personas1 = cursor.fetchall()\n",
        "\n",
        "for personas in personas1:\n",
        "   print(personas)\n",
        "\n",
        "\n",
        "cursor.execute(\"SELECT  * FROM Persona WHERE FechaNacimiento >= '1988-05-31' \")\n",
        "persona40 = cursor.fetchall()\n",
        "\n",
        "for Persona in persona40 :\n",
        "   print(Persona)\n",
        "\n",
        "\n",
        "conn.close()"
      ],
      "metadata": {
        "colab": {
          "base_uri": "https://localhost:8080/"
        },
        "id": "33Uhyv7KqfPu",
        "outputId": "3fe64187-3b4d-431b-d559-fa2e45e6e4f0"
      },
      "execution_count": null,
      "outputs": [
        {
          "output_type": "stream",
          "name": "stdout",
          "text": [
            "(1, 'Juan Antonio', 'Perez', 'Montero', '1990-08-08', 'Costarricense', 'M')\n",
            "(2, 'Pedro', 'Peralta', 'Gomez', '1993-01-08', 'Costarricense', 'M')\n",
            "(3, 'Ana Maria', 'Boniot', 'Pier', '1980-02-26', 'Frances', 'F')\n",
            "(4, 'Mariana', 'Parra', 'Telo', '1988-05-31', 'Espanol', 'F')\n",
            "(1, 'Juan Antonio', 'Perez', 'Montero', '1990-08-08', 'Costarricense', 'M')\n",
            "(2, 'Pedro', 'Peralta', 'Gomez', '1993-01-08', 'Costarricense', 'M')\n",
            "(4, 'Mariana', 'Parra', 'Telo', '1988-05-31', 'Espanol', 'F')\n"
          ]
        }
      ]
    },
    {
      "cell_type": "markdown",
      "source": [],
      "metadata": {
        "id": "P5Nfm0HuM4PR"
      }
    },
    {
      "cell_type": "markdown",
      "source": [
        "## 4. Bases de Datos NoSQL"
      ],
      "metadata": {
        "id": "Ad1uagbiXBPB"
      }
    },
    {
      "cell_type": "markdown",
      "source": [
        "## 5. Almacenamiento en la Nube"
      ],
      "metadata": {
        "id": "fxk_fnPmXFii"
      }
    },
    {
      "cell_type": "markdown",
      "source": [
        "## 6. Datos en Tiempo Real"
      ],
      "metadata": {
        "id": "T2ka-q9YXLbp"
      }
    },
    {
      "cell_type": "markdown",
      "source": [
        "## 7. Uso de Google Colab"
      ],
      "metadata": {
        "id": "dPUefqFPXO__"
      }
    },
    {
      "cell_type": "markdown",
      "source": [
        "## 8. Ética, Normativas y Privacidad de Datos"
      ],
      "metadata": {
        "id": "xGP-BnQ9XhH7"
      }
    },
    {
      "cell_type": "markdown",
      "source": [
        "# División de Tareas\n",
        "1. Introducción a la Recolección de Datos o Investigar y describir cinco métodos comunes (no abordados en esta Tarea) para la recolección de datos en proyectos de ciencia de datos. o Discutir las ventajas y desventajas de cada método. **Dani**\n",
        "2. Uso de APIs para Acceder a Datos o Investigar qué es una API y cómo se utiliza para recoger datos de forma programática, en ciencia de datos. o Ejemplo práctico I: Ejecutar la siguiente notebook, siguiendo los pasos indicados. https://colab.research.google.com/drive/1TgilneUatN1TFfkqyIz_i35x7EUb5s1o? usp=sharing  o Ejemplo práctico II: Investigar otro caso de uso de API, similar al anterior y obtener la información que considere oportuna, explique todos los pasos y demás detalle **Thom**\n",
        "\n",
        "3. Bases de Datos SQL o Investigar los fundamentos de las bases de datos SQL y su importancia en la ciencia de datos. o Ejemplo práctico: Crear una pequeña base de datos SQL usando en su notebook la librería pySQL y realizar un Tutorial orientado a ciencia de datos sobre como extraer información de su base de datos creada. **Chris**\n",
        "4. Bases de Datos NoSQL o Explicar las diferencias entre las bases de datos SQL y NoSQL. Proporcionar ejemplos de uso de bases de datos NoSQL, en el contexto de la ciencia de datos. o Ejemplo práctico: usando en su notebook la librería pymongor, crear un Tutorial orientado a ciencia de datos sobre como insertar y recuperar datos de una base de datos de este tipo.**Chris**\n",
        "5. Almacenamiento en la Nube o Discutir las opciones de almacenamiento en la nube (AWS, Google Cloud, Azure) y sus aplicaciones en la ciencia de datos. o Ejemplo práctico: Crear un pequeno Tutorial donde indique los pasos para subir y  descargar datos desde un bucket de Amazon S3. **Thom**\n",
        "6. Datos en Tiempo Real o Investigue sobre al menos 3 fuentes de datos en tiempo real, describa su funcionamiento e importancia en las decisiones basadas en datos.**Dani**\n",
        "7. Uso de Google Colab o Investigar como invocar archivos en Google Colab, haciendo uso de archivos almacenados en Drive. o Ejemplo práctico: Invoque un archivo .csv en Drive desde una notebook en Google Colab y muestre los datos en la notebook. **Chris**\n",
        "8. Ética, Normativas y Privacidad de Datos o Investigar sobre la ética y la privacidad en la recolección y almacenamiento de datos. ¿Que no se está haciendo? ¿Que se está haciendo? ¿Qué debería hacerse? o Indique al menos 3 normativas para 3 verticales no abordadas en el curso. o Discutir dos casos de estudio donde la falta de consideración ética llevó a problemas legales o de imagen para las empresas. **Dani**"
      ],
      "metadata": {
        "id": "G2PcxdNFW5kX"
      }
    }
  ]
}